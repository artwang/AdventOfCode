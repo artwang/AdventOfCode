{
 "cells": [
  {
   "cell_type": "markdown",
   "metadata": {},
   "source": [
    "--- Day 2: Red-Nosed Reports ---\n",
    "Fortunately, the first location The Historians want to search isn't a long walk from the Chief Historian's office.\n",
    "\n",
    "While the Red-Nosed Reindeer nuclear fusion/fission plant appears to contain no sign of the Chief Historian, the engineers there run up to you as soon as they see you. Apparently, they still talk about the time Rudolph was saved through molecular synthesis from a single electron.\n",
    "\n",
    "They're quick to add that - since you're already here - they'd really appreciate your help analyzing some unusual data from the Red-Nosed reactor. You turn to check if The Historians are waiting for you, but they seem to have already divided into groups that are currently searching every corner of the facility. You offer to help with the unusual data.\n",
    "\n",
    "The unusual data (your puzzle input) consists of many reports, one report per line. Each report is a list of numbers called levels that are separated by spaces. For example:\n",
    "\n",
    "7 6 4 2 1\n",
    "1 2 7 8 9\n",
    "9 7 6 2 1\n",
    "1 3 2 4 5\n",
    "8 6 4 4 1\n",
    "1 3 6 7 9\n",
    "This example data contains six reports each containing five levels.\n",
    "\n",
    "The engineers are trying to figure out which reports are safe. The Red-Nosed reactor safety systems can only tolerate levels that are either gradually increasing or gradually decreasing. So, a report only counts as safe if both of the following are true:\n",
    "\n",
    "The levels are either all increasing or all decreasing.\n",
    "Any two adjacent levels differ by at least one and at most three.\n",
    "In the example above, the reports can be found safe or unsafe by checking those rules:\n",
    "\n",
    "7 6 4 2 1: Safe because the levels are all decreasing by 1 or 2.\n",
    "1 2 7 8 9: Unsafe because 2 7 is an increase of 5.\n",
    "9 7 6 2 1: Unsafe because 6 2 is a decrease of 4.\n",
    "1 3 2 4 5: Unsafe because 1 3 is increasing but 3 2 is decreasing.\n",
    "8 6 4 4 1: Unsafe because 4 4 is neither an increase or a decrease.\n",
    "1 3 6 7 9: Safe because the levels are all increasing by 1, 2, or 3.\n",
    "So, in this example, 2 reports are safe.\n",
    "\n",
    "Analyze the unusual data from the engineers. How many reports are safe?\n",
    "\n",
    "To begin, get your puzzle input.\n",
    "\n",
    "Answer: \n",
    " "
   ]
  },
  {
   "cell_type": "code",
   "execution_count": 17,
   "metadata": {},
   "outputs": [
    {
     "name": "stdout",
     "output_type": "stream",
     "text": [
      "218\n"
     ]
    }
   ],
   "source": [
    "result = 0\n",
    "with open('D:\\Work\\AdventOfCode\\Data\\Day 02 Data.txt','r') as f:\n",
    "    for line in f:\n",
    "        # put each line to a list\n",
    "        report = [int(i) for i in line.split()]\n",
    "\n",
    "        # initialize/increment variables\n",
    "        increase = report[0] < report[1]\n",
    "        safe = 1\n",
    "\n",
    "        for ord in range(len(report)-1):\n",
    "            if ((report[ord] < report[ord+1]) != increase) or (abs(report[ord] - report[ord+1]) < 1) or (abs(report[ord] - report[ord+1]) > 3):\n",
    "                safe=0\n",
    "                #print(report)\n",
    "                break\n",
    "        result += safe\n",
    "\n",
    "print(result)\n"
   ]
  },
  {
   "cell_type": "markdown",
   "metadata": {},
   "source": [
    "--- Part Two ---\n",
    "The engineers are surprised by the low number of safe reports until they realize they forgot to tell you about the Problem Dampener.\n",
    "\n",
    "The Problem Dampener is a reactor-mounted module that lets the reactor safety systems tolerate a single bad level in what would otherwise be a safe report. It's like the bad level never happened!\n",
    "\n",
    "Now, the same rules apply as before, except if removing a single level from an unsafe report would make it safe, the report instead counts as safe.\n",
    "\n",
    "More of the above example's reports are now safe:\n",
    "\n",
    "7 6 4 2 1: Safe without removing any level.\n",
    "1 2 7 8 9: Unsafe regardless of which level is removed.\n",
    "9 7 6 2 1: Unsafe regardless of which level is removed.\n",
    "1 3 2 4 5: Safe by removing the second level, 3.\n",
    "8 6 4 4 1: Safe by removing the third level, 4.\n",
    "1 3 6 7 9: Safe without removing any level.\n",
    "Thanks to the Problem Dampener, 4 reports are actually safe!\n",
    "\n",
    "Update your analysis by handling situations where the Problem Dampener can remove a single level from unsafe reports. How many reports are now safe?\n",
    "\n",
    "Answer: \n",
    " "
   ]
  },
  {
   "cell_type": "code",
   "execution_count": 42,
   "metadata": {},
   "outputs": [
    {
     "name": "stdout",
     "output_type": "stream",
     "text": [
      "290\n"
     ]
    }
   ],
   "source": [
    "### function to return 1 if defined as SAFE\n",
    "def isSafe(report):\n",
    "    # require at least 2 elements to compare\n",
    "    if len(report)<2:\n",
    "        return 0\n",
    "\n",
    "    # initialize/increment variables\n",
    "    increase = report[0] < report[1]\n",
    "\n",
    "    for ord in range(len(report)-1):\n",
    "        if ((report[ord] < report[ord+1]) != increase) or (abs(report[ord] - report[ord+1]) < 1) or (abs(report[ord] - report[ord+1]) > 3):\n",
    "            return 0\n",
    "\n",
    "    return 1\n",
    "\n",
    "\n",
    "result = 0\n",
    "with open('D:\\Work\\AdventOfCode\\Data\\Day 02 Data.txt','r') as f:\n",
    "    for line in f:\n",
    "        # put each line to a list\n",
    "        report = [int(i) for i in line.split()]\n",
    "        safe = isSafe(report)\n",
    "\n",
    "        # if not safe, try for dampener\n",
    "        if safe == 0:\n",
    "            for ord in range(len(report)):\n",
    "                dampener = report.copy()    # clone/copy the list\n",
    "                del dampener[ord]           # delete one element at a time\n",
    "\n",
    "                # try the dampener; also make sure we have at least 2 elements to compare\n",
    "                if len(dampener) > 1 and isSafe(dampener) == 1:\n",
    "                    safe = 1\n",
    "                    break\n",
    "\n",
    "        result += safe\n",
    "print(result)"
   ]
  }
 ],
 "metadata": {
  "kernelspec": {
   "display_name": "Python 3",
   "language": "python",
   "name": "python3"
  },
  "language_info": {
   "codemirror_mode": {
    "name": "ipython",
    "version": 3
   },
   "file_extension": ".py",
   "mimetype": "text/x-python",
   "name": "python",
   "nbconvert_exporter": "python",
   "pygments_lexer": "ipython3",
   "version": "3.9.7"
  }
 },
 "nbformat": 4,
 "nbformat_minor": 2
}
