{
 "cells": [
  {
   "cell_type": "markdown",
   "metadata": {},
   "source": [
    "--- Day 3: Mull It Over ---\n",
    "\"Our computers are having issues, so I have no idea if we have any Chief Historians in stock! You're welcome to check the warehouse, though,\" says the mildly flustered shopkeeper at the North Pole Toboggan Rental Shop. The Historians head out to take a look.\n",
    "\n",
    "The shopkeeper turns to you. \"Any chance you can see why our computers are having issues again?\"\n",
    "\n",
    "The computer appears to be trying to run a program, but its memory (your puzzle input) is corrupted. All of the instructions have been jumbled up!\n",
    "\n",
    "It seems like the goal of the program is just to multiply some numbers. It does that with instructions like mul(X,Y), where X and Y are each 1-3 digit numbers. For instance, mul(44,46) multiplies 44 by 46 to get a result of 2024. Similarly, mul(123,4) would multiply 123 by 4.\n",
    "\n",
    "However, because the program's memory has been corrupted, there are also many invalid characters that should be ignored, even if they look like part of a mul instruction. Sequences like mul(4*, mul(6,9!, ?(12,34), or mul ( 2 , 4 ) do nothing.\n",
    "\n",
    "For example, consider the following section of corrupted memory:\n",
    "\n",
    "xmul(2,4)%&mul[3,7]!@^do_not_mul(5,5)+mul(32,64]then(mul(11,8)mul(8,5))\n",
    "Only the four highlighted sections are real mul instructions. Adding up the result of each instruction produces 161 (2*4 + 5*5 + 11*8 + 8*5).\n",
    "\n",
    "Scan the corrupted memory for uncorrupted mul instructions. What do you get if you add up all of the results of the multiplications?\n",
    "\n",
    "To begin, get your puzzle input.\n",
    "\n",
    "Answer: \n",
    " "
   ]
  },
  {
   "cell_type": "code",
   "execution_count": 6,
   "metadata": {},
   "outputs": [
    {
     "name": "stdout",
     "output_type": "stream",
     "text": [
      "17793\n"
     ]
    }
   ],
   "source": [
    "result = 0\n",
    "with open('D:\\Work\\AdventOfCode\\Data\\Day 03 Data.txt','r') as f:\n",
    "    data = f.read().replace('\\n', '')\n",
    "    #data = f.read().rstrip()\n",
    "    print(len(data))"
   ]
  },
  {
   "cell_type": "markdown",
   "metadata": {},
   "source": []
  },
  {
   "cell_type": "code",
   "execution_count": 15,
   "metadata": {},
   "outputs": [
    {
     "name": "stdout",
     "output_type": "stream",
     "text": [
      "Total matched: 683\n",
      "167090022\n"
     ]
    }
   ],
   "source": [
    "import re\n",
    "\n",
    "def find_pattern(string):\n",
    "    pattern = r'mul\\((\\d+),(\\d+)\\)'\n",
    "    matches = re.finditer(pattern, string)\n",
    "\n",
    "    total = 0\n",
    "    result = 0\n",
    "\n",
    "    for match in matches:\n",
    "        x = int(match.group(1))\n",
    "        y = int(match.group(2))\n",
    "        #print(f\"Found pattern: x = {x}, y = {y}, x*y = {x*y}\")\n",
    "        total += 1\n",
    "        result += x * y\n",
    "\n",
    "    print(f\"Total matched: {total}\")\n",
    "    print(result)\n",
    "\n",
    "\n",
    "\n",
    "# Example usage\n",
    "with open('D:\\Work\\AdventOfCode\\Data\\Day 03 Data.txt','r') as f:\n",
    "    data = f.read().replace('\\n', '')\n",
    "    find_pattern(data)\n"
   ]
  },
  {
   "cell_type": "markdown",
   "metadata": {},
   "source": [
    "--- Part Two ---\n",
    "As you scan through the corrupted memory, you notice that some of the conditional statements are also still intact. If you handle some of the uncorrupted conditional statements in the program, you might be able to get an even more accurate result.\n",
    "\n",
    "There are two new instructions you'll need to handle:\n",
    "\n",
    "The do() instruction enables future mul instructions.\n",
    "The don't() instruction disables future mul instructions.\n",
    "Only the most recent do() or don't() instruction applies. At the beginning of the program, mul instructions are enabled.\n",
    "\n",
    "For example:\n",
    "\n",
    "xmul(2,4)&mul[3,7]!^don't()_mul(5,5)+mul(32,64](mul(11,8)undo()?mul(8,5))\n",
    "This corrupted memory is similar to the example from before, but this time the mul(5,5) and mul(11,8) instructions are disabled because there is a don't() instruction before them. The other mul instructions function normally, including the one at the end that gets re-enabled by a do() instruction.\n",
    "\n",
    "This time, the sum of the results is 48 (2*4 + 8*5).\n",
    "\n",
    "Handle the new instructions; what do you get if you add up all of the results of just the enabled multiplications?\n",
    "\n",
    "Answer: \n",
    " "
   ]
  },
  {
   "cell_type": "code",
   "execution_count": 21,
   "metadata": {},
   "outputs": [
    {
     "name": "stdout",
     "output_type": "stream",
     "text": [
      "89823704\n"
     ]
    }
   ],
   "source": [
    "def getTotalMul(string):\n",
    "    pattern = r'mul\\((\\d+),(\\d+)\\)'\n",
    "    matches = re.finditer(pattern, string)\n",
    "\n",
    "    #total = 0\n",
    "    mulSum = 0\n",
    "\n",
    "    for match in matches:\n",
    "        x = int(match.group(1))\n",
    "        y = int(match.group(2))\n",
    "        #print(f\"Found pattern: x = {x}, y = {y}, x*y = {x*y}\")\n",
    "        #total += 1\n",
    "        mulSum += x * y\n",
    "\n",
    "    #print(f\"Total matched: {total}\")\n",
    "    return mulSum\n",
    "\n",
    "result = 0\n",
    "with open('D:\\Work\\AdventOfCode\\Data\\Day 03 Data.txt','r') as f:\n",
    "    data = f.read().replace('\\n', '')\n",
    "    splitByDo = data.split('do()')\n",
    "    for doStr in splitByDo:\n",
    "        splitByDont = doStr.split(\"don't()\")[0]\n",
    "        result += getTotalMul(splitByDont)\n",
    "\n",
    "    print(result)"
   ]
  }
 ],
 "metadata": {
  "kernelspec": {
   "display_name": "Python 3",
   "language": "python",
   "name": "python3"
  },
  "language_info": {
   "codemirror_mode": {
    "name": "ipython",
    "version": 3
   },
   "file_extension": ".py",
   "mimetype": "text/x-python",
   "name": "python",
   "nbconvert_exporter": "python",
   "pygments_lexer": "ipython3",
   "version": "3.9.7"
  }
 },
 "nbformat": 4,
 "nbformat_minor": 2
}
